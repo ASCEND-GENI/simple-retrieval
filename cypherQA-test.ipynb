{
 "cells": [
  {
   "cell_type": "code",
   "execution_count": 4,
   "metadata": {},
   "outputs": [
    {
     "name": "stdout",
     "output_type": "stream",
     "text": [
      "Node properties are the following:\n",
      "Person {id: STRING},Nationality {id: STRING},Occupation {id: STRING},Field {id: STRING},Award {id: STRING},Organization {id: STRING},Researcharea {id: STRING},Research area {id: STRING},Field_of_study {id: STRING}\n",
      "Relationship properties are the following:\n",
      "\n",
      "The relationships are the following:\n",
      "(:Person)-[:NATIONALITY]->(:Nationality),(:Person)-[:OCCUPATION]->(:Occupation),(:Person)-[:RESEARCH_FIELD]->(:Field),(:Person)-[:AWARDEE]->(:Award),(:Person)-[:PROFESSOR]->(:Organization),(:Person)-[:AWARD_WINNER]->(:Award),(:Person)-[:AWARD]->(:Award),(:Person)-[:RESEARCH_AREA]->(:Researcharea),(:Person)-[:RESEARCH_AREA]->(:Research area),(:Person)-[:FIELD_OF_STUDY]->(:Field),(:Person)-[:FIELD_OF_STUDY]->(:Field_of_study),(:Person)-[:AWARD_RECEIVED]->(:Award)\n"
     ]
    }
   ],
   "source": [
    "import time\n",
    "import os\n",
    "from langchain_community.graphs import Neo4jGraph\n",
    "\n",
    "graph = Neo4jGraph()\n",
    "print(graph.schema)\n"
   ]
  },
  {
   "cell_type": "code",
   "execution_count": 23,
   "metadata": {},
   "outputs": [],
   "source": [
    "start_time = time.time()\n",
    "\n",
    "# from langchain.chains import GraphCypherQAChain\n",
    "from langchain.chains.graph_qa.cypher import GraphCypherQAChain\n",
    "from langchain_openai import ChatOpenAI\n",
    "llm = ChatOpenAI(\n",
    "    temperature=0,\n",
    "    model_name=\"gpt-4-0125-preview\",\n",
    "    organization=os.getenv('ASCEND_ORG_ID'),\n",
    "    api_key=os.getenv('SS_OPENAI_API_KEY'),\n",
    ")\n",
    "# default_llm = ChatOpenAI(\n",
    "#     temperature=0,\n",
    "#     organization=os.getenv('ASCEND_ORG_ID'),\n",
    "#     api_key=os.getenv('SS_OPENAI_API_KEY'),\n",
    "# )\n",
    "\n",
    "cypher_chain = GraphCypherQAChain.from_llm(\n",
    "    cypher_llm=llm,\n",
    "    # qa_llm=default_llm, # defulat model \"gpt-3.5-turbo\"\n",
    "    qa_llm=llm, # defulat model \"gpt-3.5-turbo\"\n",
    "    graph=graph,\n",
    "    verbose=True,\n",
    "    return_intermediate_steps=True\n",
    ")"
   ]
  },
  {
   "cell_type": "code",
   "execution_count": 21,
   "metadata": {},
   "outputs": [
    {
     "data": {
      "text/plain": [
       "{'query': 'Who is the chemist?',\n",
       " 'result': \"I don't know the answer.\",\n",
       " 'intermediate_steps': [{'query': 'cypher\\nMATCH (p:Person)-[:OCCUPATION]->(o:Occupation {id: \"chemist\"})\\nRETURN p.id AS Chemist\\n'},\n",
       "  {'context': []}]}"
      ]
     },
     "execution_count": 21,
     "metadata": {},
     "output_type": "execute_result"
    }
   ],
   "source": [
    "cypher_chain.invoke(\"Who is the chemist?\")"
   ]
  },
  {
   "cell_type": "code",
   "execution_count": 24,
   "metadata": {},
   "outputs": [
    {
     "name": "stdout",
     "output_type": "stream",
     "text": [
      "\n",
      "\n",
      "\u001b[1m> Entering new GraphCypherQAChain chain...\u001b[0m\n",
      "Generated Cypher:\n",
      "\u001b[32;1m\u001b[1;3mcypher\n",
      "MATCH (p:Person)-[:OCCUPATION]->(o:Occupation {id: \"chemist\"})\n",
      "RETURN p.id AS Chemist\n",
      "\u001b[0m\n",
      "Full Context:\n",
      "\u001b[32;1m\u001b[1;3m[]\u001b[0m\n",
      "\n",
      "\u001b[1m> Finished chain.\u001b[0m\n"
     ]
    },
    {
     "data": {
      "text/plain": [
       "{'query': 'Who is the chemist?',\n",
       " 'result': \"I don't know the answer.\",\n",
       " 'intermediate_steps': [{'query': 'cypher\\nMATCH (p:Person)-[:OCCUPATION]->(o:Occupation {id: \"chemist\"})\\nRETURN p.id AS Chemist\\n'},\n",
       "  {'context': []}]}"
      ]
     },
     "execution_count": 24,
     "metadata": {},
     "output_type": "execute_result"
    }
   ],
   "source": [
    "cypher_chain(\"Who is the chemist?\")"
   ]
  },
  {
   "cell_type": "code",
   "execution_count": null,
   "metadata": {},
   "outputs": [],
   "source": []
  }
 ],
 "metadata": {
  "kernelspec": {
   "display_name": "venv",
   "language": "python",
   "name": "python3"
  },
  "language_info": {
   "codemirror_mode": {
    "name": "ipython",
    "version": 3
   },
   "file_extension": ".py",
   "mimetype": "text/x-python",
   "name": "python",
   "nbconvert_exporter": "python",
   "pygments_lexer": "ipython3",
   "version": "3.11.5"
  }
 },
 "nbformat": 4,
 "nbformat_minor": 2
}
